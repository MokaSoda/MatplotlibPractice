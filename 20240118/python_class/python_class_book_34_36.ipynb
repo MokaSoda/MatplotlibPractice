{
 "cells": [
  {
   "cell_type": "code",
   "execution_count": 1,
   "id": "initial_id",
   "metadata": {
    "collapsed": true,
    "ExecuteTime": {
     "end_time": "2024-01-18T14:15:34.643702Z",
     "start_time": "2024-01-18T14:15:34.628745200Z"
    }
   },
   "outputs": [
    {
     "name": "stdout",
     "output_type": "stream",
     "text": [
      "542.4 210.3 38\n",
      "베기\n"
     ]
    }
   ],
   "source": [
    "# 34.5 연습문제: 게임 캐릭터 클래스 만들기 \n",
    "class Knight:\n",
    "    def __init__(self, health, mana, armor):\n",
    "        self.health = health\n",
    "        self.mana = mana\n",
    "        self.armor = armor\n",
    "    def slash(self):\n",
    "        print('베기')\n",
    " \n",
    "x = Knight(health=542.4, mana=210.3, armor=38)\n",
    "print(x.health, x.mana, x.armor)\n",
    "x.slash()"
   ]
  },
  {
   "cell_type": "code",
   "outputs": [
    {
     "name": "stdout",
     "output_type": "stream",
     "text": [
      "티버: 피해량 593.7\n"
     ]
    }
   ],
   "source": [
    "# 34.6 심사문제: 게임 캐릭터 클래스 만들기\n",
    "\n",
    "class Annie:\n",
    "    def __init__(self, health, mana, ability_power):\n",
    "        self.health = health\n",
    "        self.mana = mana\n",
    "        self.ability_power = ability_power\n",
    "    def tibbers(self):\n",
    "        hurt = self.ability_power * 0.65 + 400\n",
    "        print(f\"티버: 피해량 {hurt}\")\n",
    "\n",
    "\n",
    "\n",
    "health, mana, ability_power = map(float, '511.68 334.0 298'.split())\n",
    " \n",
    "x = Annie(health=health, mana=mana, ability_power=ability_power)\n",
    "x.tibbers()"
   ],
   "metadata": {
    "collapsed": false,
    "ExecuteTime": {
     "end_time": "2024-01-18T14:16:49.009391200Z",
     "start_time": "2024-01-18T14:16:49.005405800Z"
    }
   },
   "id": "711d3b65e40a5877",
   "execution_count": 3
  },
  {
   "cell_type": "code",
   "outputs": [
    {
     "name": "stdout",
     "output_type": "stream",
     "text": [
      "올바른 날짜 형식입니다.\n"
     ]
    }
   ],
   "source": [
    "#35.5 date class\n",
    "import re\n",
    "import datetime\n",
    "\n",
    "class Date:\n",
    "    @staticmethod\n",
    "    def is_date_valid(date_string):\n",
    "        try:\n",
    "            datetime.datetime.strptime(date_string, '%Y-%m-%d')\n",
    "            return True\n",
    "        except ValueError:\n",
    "            pass    \n",
    "\n",
    "\n",
    "if Date.is_date_valid('2000-12-31'):\n",
    "    print('올바른 날짜 형식입니다.')\n",
    "else:\n",
    "    print('잘못된 날짜 형식입니다.')"
   ],
   "metadata": {
    "collapsed": false,
    "ExecuteTime": {
     "end_time": "2024-01-18T14:22:48.658189Z",
     "start_time": "2024-01-18T14:22:48.645227100Z"
    }
   },
   "id": "dfc1b9e5239f45c0",
   "execution_count": 16
  },
  {
   "cell_type": "code",
   "outputs": [
    {
     "name": "stdout",
     "output_type": "stream",
     "text": [
      "23 35 59\n"
     ]
    }
   ],
   "source": [
    "#35.6\n",
    "import datetime\n",
    "\n",
    "class Time:\n",
    "    def __init__(self, hour, minute, second):\n",
    "        self.hour = hour\n",
    "        self.minute = minute\n",
    "        self.second = second\n",
    "\n",
    "    @staticmethod\n",
    "    def is_time_valid(time_string):\n",
    "        try:\n",
    "            datetime.datetime.strptime(time_string, '%H:%M:%S')\n",
    "            return True\n",
    "        except ValueError:\n",
    "            pass    \n",
    "\n",
    "    @classmethod\n",
    "    def from_string(cls, time_string):\n",
    "        parts = time_string.split(':')\n",
    "        return cls(hour=int(parts[0]), minute=int(parts[1]), second=int(parts[2]))\n",
    "    \n",
    "\n",
    "time_string = '23:35:59'\n",
    " \n",
    "if Time.is_time_valid(time_string):\n",
    "    t = Time.from_string(time_string)\n",
    "    print(t.hour, t.minute, t.second)\n",
    "else:\n",
    "    print('잘못된 시간 형식입니다.')"
   ],
   "metadata": {
    "collapsed": false,
    "ExecuteTime": {
     "end_time": "2024-01-18T14:27:34.032744400Z",
     "start_time": "2024-01-18T14:27:34.023774500Z"
    }
   },
   "id": "e276b841cbcb7dcf",
   "execution_count": 18
  },
  {
   "cell_type": "code",
   "outputs": [
    {
     "name": "stdout",
     "output_type": "stream",
     "text": [
      "[100, 2, 3, 100, 2, 3, 100, 2, 3]\n"
     ]
    }
   ],
   "source": [
    "#36.7\n",
    "class AdvancedList(list):\n",
    "    def __init__(self, items:list):\n",
    "        super().__init__(items)\n",
    "\n",
    "    def replace(self, old, new):\n",
    "        for i,data in enumerate(self):\n",
    "            if data == old:\n",
    "                self[i] = new\n",
    "\n",
    "\n",
    "x = AdvancedList([1, 2, 3, 1, 2, 3, 1, 2, 3])\n",
    "x.replace(1, 100)\n",
    "print(x)"
   ],
   "metadata": {
    "collapsed": false,
    "ExecuteTime": {
     "end_time": "2024-01-18T14:41:14.641378300Z",
     "start_time": "2024-01-18T14:41:14.629137200Z"
    }
   },
   "id": "e63b9b1012cf0a9e",
   "execution_count": 36
  },
  {
   "cell_type": "code",
   "outputs": [
    {
     "name": "stdout",
     "output_type": "stream",
     "text": [
      "먹다\n",
      "파닥거리다\n",
      "날다\n",
      "True\n",
      "True\n"
     ]
    }
   ],
   "source": [
    "class Animal:\n",
    "    def eat(self):\n",
    "        print('먹다')\n",
    " \n",
    "class Wing:\n",
    "    def flap(self):\n",
    "        print('파닥거리다')\n",
    "\n",
    "class Bird(Animal, Wing):\n",
    "    def fly(self):\n",
    "        print(\"날다\")\n",
    "\n",
    "b = Bird()\n",
    "b.eat()\n",
    "b.flap()\n",
    "b.fly()\n",
    "print(issubclass(Bird, Animal))\n",
    "print(issubclass(Bird, Wing))"
   ],
   "metadata": {
    "collapsed": false,
    "ExecuteTime": {
     "end_time": "2024-01-18T14:42:00.632990200Z",
     "start_time": "2024-01-18T14:42:00.614998500Z"
    }
   },
   "id": "4d3085aed751366a",
   "execution_count": 37
  },
  {
   "cell_type": "code",
   "outputs": [],
   "source": [],
   "metadata": {
    "collapsed": false
   },
   "id": "871a597bed352162"
  }
 ],
 "metadata": {
  "kernelspec": {
   "display_name": "Python 3",
   "language": "python",
   "name": "python3"
  },
  "language_info": {
   "codemirror_mode": {
    "name": "ipython",
    "version": 2
   },
   "file_extension": ".py",
   "mimetype": "text/x-python",
   "name": "python",
   "nbconvert_exporter": "python",
   "pygments_lexer": "ipython2",
   "version": "2.7.6"
  }
 },
 "nbformat": 4,
 "nbformat_minor": 5
}

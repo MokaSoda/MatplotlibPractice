{
 "cells": [
  {
   "cell_type": "markdown",
   "source": [
    "\n",
    "## 사용자 정의 클래스\n",
    "- 클래스이름 : Star\n",
    "- 클래스정의 : 밤하늘의 별을 저장하는 클래서\n",
    "- 클래스속성 : 크기, 색상, 밝기 => 속성(attribute, field, feature)\n",
    "- 클래스메서드 : 반짝임, 떨어짐 => 메서드(method)\n",
    "- 클래스 인스턴스 : 별 하나를 의미\n",
    "-  클래스 인스턴스 생성 : 별 하나를 만듦\n",
    "-  클래스 인스턴스 사용 : 별의 크기, 색상, 밝기를 변경"
   ],
   "metadata": {
    "collapsed": false
   },
   "id": "57a7f00b887511c7"
  },
  {
   "cell_type": "code",
   "outputs": [
    {
     "name": "stdout",
     "output_type": "stream",
     "text": [
      "초기 색상 = yellow\n",
      "초기 색상 = white\n",
      "초기 색상 = red\n",
      "스타1 blue\n",
      "yellow별 반짝임\n",
      "2.0\n",
      "4\n",
      "white별 떨어짐\n",
      "red별 반짝임\n",
      "50.0\n",
      "100\n",
      "night\n",
      "10\n",
      "yellow세터\n",
      "staticmethod\n",
      "yellow\n"
     ]
    },
    {
     "ename": "AttributeError",
     "evalue": "can't set attribute",
     "output_type": "error",
     "traceback": [
      "\u001B[1;31m---------------------------------------------------------------------------\u001B[0m",
      "\u001B[1;31mAttributeError\u001B[0m                            Traceback (most recent call last)",
      "Cell \u001B[1;32mIn[51], line 113\u001B[0m\n\u001B[0;32m    110\u001B[0m \u001B[38;5;66;03m# Star.get_private_value()\u001B[39;00m\n\u001B[0;32m    111\u001B[0m \u001B[38;5;66;03m# use color_property\u001B[39;00m\n\u001B[0;32m    112\u001B[0m \u001B[38;5;28mprint\u001B[39m(star1\u001B[38;5;241m.\u001B[39mcolor_property)\n\u001B[1;32m--> 113\u001B[0m \u001B[43mstar1\u001B[49m\u001B[38;5;241;43m.\u001B[39;49m\u001B[43mcolor\u001B[49m \u001B[38;5;241m=\u001B[39m \u001B[38;5;124m\"\u001B[39m\u001B[38;5;124mgreen\u001B[39m\u001B[38;5;124m\"\u001B[39m\n\u001B[0;32m    114\u001B[0m \u001B[38;5;28mprint\u001B[39m(star1\u001B[38;5;241m.\u001B[39mcolor_property)\n\u001B[0;32m    116\u001B[0m \u001B[38;5;66;03m# use classmethod\u001B[39;00m\n",
      "\u001B[1;31mAttributeError\u001B[0m: can't set attribute"
     ]
    }
   ],
   "source": [
    "class Star:\n",
    "    # 최상위 부모 클래스인 object 에서부터 상속받은 함수들\n",
    "    # def __finalize__(self):\n",
    "    #     print(\"finalize\")\n",
    "    # def __del__(self):\n",
    "    #     print(\"del\")\n",
    "    # # def __init__(self, *args, **kwargs):\n",
    "    # #     print(\"init\")\n",
    "    # def __new__(cls, *args, **kwargs):\n",
    "    #     print(\"new\")\n",
    "    # 클래스 변수\n",
    "    count = 0\n",
    "    # 클래스 필드 속성, 해당 클래스로 생성된 객체(인스턴스가)가 공유하는 속성\n",
    "    timezone = 'night'\n",
    "    __private_value = 10\n",
    "    # 기존에 있는 함수를 자신의 입맛에 맞게 수정하는 것\n",
    "    # 오버라이딩 \n",
    "    def __init__(self, size, color, brightness):\n",
    "        print(\"초기 색상 = \"+color)\n",
    "        # 힙 영역의 각 속송의 주소들을 저장함\n",
    "        self.size = size\n",
    "        self.__color = color\n",
    "        self.brightness = brightness\n",
    "\n",
    "    def twinkle(self):\n",
    "        original = self.brightness\n",
    "        self.brightness  /= 2\n",
    "        print(f\"{self.__color}별 \" + \"반짝임\")\n",
    "        print(self.brightness)\n",
    "        self.brightness = original\n",
    "        print(self.brightness)\n",
    "\n",
    "    def fall(self):\n",
    "        print(f\"{self.__color}별 \" + \"떨어짐\")\n",
    "        self.brightness = 0\n",
    "    \n",
    "    # def get_color(self):\n",
    "    #     return self.__color\n",
    "    # \n",
    "    # def set_color(self, color):\n",
    "    #     self.__color = color\n",
    "    # \n",
    "    # def del_color(self):\n",
    "    #     del self.__color\n",
    "    \n",
    "    def get_private_value(self):\n",
    "        return self.__private_value\n",
    "    \n",
    "    def set_private_value(self, value):\n",
    "        self.__private_value = value\n",
    "    \n",
    "    def del_private_value(self):\n",
    "        del self.__private_value\n",
    "    \n",
    "    # 비공개 인스턴스 \n",
    "    # 클래스 내부에서만 사용 가능\n",
    "    # 클래스 외부에서는 접근 불가\n",
    "    def __privatePrint(self):\n",
    "        print(\"private\")\n",
    "    \n",
    "    \n",
    "    # use @ to make getter setter methods\n",
    "    @property\n",
    "    def color_property(self):\n",
    "        return self.__color\n",
    "    @color_property.setter\n",
    "    def color(self, color):\n",
    "        self.__color = color\n",
    "    @color_property.deleter\n",
    "    def color(self):\n",
    "        del self.__color\n",
    "\n",
    "\n",
    "    @staticmethod\n",
    "    def teststaticmethod():\n",
    "        print(\"staticmethod\")\n",
    "   \n",
    "    @classmethod\n",
    "    def testclassmethod(cls):\n",
    "        print(\"classmethod\")\n",
    "        \n",
    "\n",
    "        \n",
    "        \n",
    "\n",
    "# 별 인스턴스 생성\n",
    "star1 = Star(10, \"yellow\", 3)\n",
    "star2 = Star(5, \"white\", 2)\n",
    "yourStar = Star(100, \"red\", 100)\n",
    "\n",
    "# 별 크기, 색상, 밝기 변경\n",
    "star1.size = 15\n",
    "star1.__color = \"blue\"\n",
    "print(f\"스타1 {star1.__color}\")\n",
    "star1.brightness = 4\n",
    "\n",
    "# 별 메서드 사용\n",
    "star1.twinkle()  # 반짝임\n",
    "star2.fall()  # 떨어짐\n",
    "yourStar.twinkle()  # 반짝임\n",
    "print(star2.timezone)\n",
    "\n",
    "print(star1.get_private_value())\n",
    "\n",
    "print(star1.color + \"세터\")\n",
    "\n",
    "Star.__dict__\n",
    "# use staticmethod\n",
    "Star.teststaticmethod()\n",
    "# Star.get_private_value()\n",
    "# use color_property\n",
    "\n",
    "# use classmethod\n",
    "Star.testclassmethod()"
   ],
   "metadata": {
    "collapsed": false,
    "ExecuteTime": {
     "end_time": "2024-01-18T05:33:49.478135400Z",
     "start_time": "2024-01-18T05:33:49.448808Z"
    }
   },
   "id": "76c88b14aac593f1",
   "execution_count": 51
  },
  {
   "cell_type": "code",
   "outputs": [],
   "source": [],
   "metadata": {
    "collapsed": false
   },
   "id": "f0fea85ed6c908c"
  },
  {
   "cell_type": "markdown",
   "source": [
    "- 객체 생성 => 클레스에 설정된 변수와 함수들을 생성\n",
    "- 생성 방법 => 클래스명([매개변수])를 호출"
   ],
   "metadata": {
    "collapsed": false
   },
   "id": "7bb2a71cb640a428"
  },
  {
   "cell_type": "code",
   "outputs": [],
   "source": [
    "star1.__dict__"
   ],
   "metadata": {
    "collapsed": false,
    "ExecuteTime": {
     "end_time": "2024-01-18T05:21:53.813260800Z",
     "start_time": "2024-01-18T05:21:53.810260700Z"
    }
   },
   "id": "2cd51e54113ec145",
   "execution_count": null
  },
  {
   "cell_type": "code",
   "outputs": [],
   "source": [
    "# 만약 비공개된 속성에 접근하고 싶다면 이를 접근할 수 있는 메서드를 만들어야 함\n",
    "# 속성명을 읽어올 수 있는 get속성() 메서드\n",
    "# 비공개 인스턴스의 속성 값 설정하는 메서드 set속성명(새로운 값)\n",
    "# ===> getter, setter method\n"
   ],
   "metadata": {
    "collapsed": false,
    "ExecuteTime": {
     "start_time": "2024-01-18T05:21:53.811260400Z"
    }
   },
   "id": "46a96da88ce3ba9",
   "execution_count": null
  }
 ],
 "metadata": {
  "kernelspec": {
   "display_name": "Python 3",
   "language": "python",
   "name": "python3"
  },
  "language_info": {
   "codemirror_mode": {
    "name": "ipython",
    "version": 2
   },
   "file_extension": ".py",
   "mimetype": "text/x-python",
   "name": "python",
   "nbconvert_exporter": "python",
   "pygments_lexer": "ipython2",
   "version": "2.7.6"
  }
 },
 "nbformat": 4,
 "nbformat_minor": 5
}
